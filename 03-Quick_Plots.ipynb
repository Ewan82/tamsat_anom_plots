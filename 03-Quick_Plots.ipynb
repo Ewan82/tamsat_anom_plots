{
 "cells": [
  {
   "cell_type": "markdown",
   "metadata": {},
   "source": [
    "![organisation_logos](data_analysis/gssti_nceo_logo2.png \"Organistational logos\")\n",
    "# Ghana Monthly Anomaly Plots\n",
    "Here we include a set of functions to produce anomaly plots for different datasets (TAMSAT, ERA5, MODIS). These allow us to see how different regions are performing compared to historic data and whether the current conditions are of concern at any particular location. \n",
    "\n",
    "Initially we import the required Python modules and set up a Dask cluster to process data:\n"
   ]
  },
  {
   "cell_type": "code",
   "execution_count": null,
   "metadata": {},
   "outputs": [],
   "source": [
    "from dask.distributed import Client, LocalCluster\n",
    "\n",
    "cluster = LocalCluster(n_workers=2, threads_per_worker=1, memory_limit=1e9)\n",
    "client = Client(cluster)\n",
    "client"
   ]
  },
  {
   "cell_type": "code",
   "execution_count": 2,
   "metadata": {},
   "outputs": [],
   "source": [
    "import datetime as dt\n",
    "import numpy as np\n",
    "import xarray as xr\n",
    "import pandas as pd\n",
    "import matplotlib.pyplot as plt\n",
    "import seaborn as sns\n",
    "\n",
    "%matplotlib inline\n",
    "\n",
    "xr.set_options(keep_attrs = True)\n",
    "%load_ext autoreload\n",
    "%autoreload 2"
   ]
  },
  {
   "cell_type": "code",
   "execution_count": 8,
   "metadata": {},
   "outputs": [],
   "source": [
    "from data_analysis.simple_gui import plot_tamsat_anomaly\n",
    "from data_analysis.simple_gui import plot_era_anomaly\n",
    "from data_analysis.simple_gui import plot_modis_anomaly"
   ]
  },
  {
   "cell_type": "markdown",
   "metadata": {},
   "source": [
    "##TAMSAT Anomalies\n",
    "The first function plots anomalies for the TAMSAT rainfall data over Ghana. This allows us to see if the current month is anomalously dry or wet. You can chose the time period for which to compare the current conditions with the drop down menu."
   ]
  },
  {
   "cell_type": "code",
   "execution_count": 9,
   "metadata": {},
   "outputs": [
    {
     "data": {
      "text/plain": [
       "interactive(children=(Dropdown(description='TAMSAT variable to plot', options=('ecan_gb', 'esoil_gb', 'precip'…"
      ]
     },
     "metadata": {},
     "output_type": "display_data"
    }
   ],
   "source": [
    "plot_tamsat_anomaly()"
   ]
  },
  {
   "cell_type": "markdown",
   "metadata": {},
   "source": [
    "##ERA5 Anomalies\n",
    "The next function plots anomalies for the ERA5 reanalysis data over Ghana. This allows us to see if the current month is anomalously warm or dry, along with other meteorological variables. You can chose the time period for which to compare the current conditions with the drop down menu."
   ]
  },
  {
   "cell_type": "code",
   "execution_count": 11,
   "metadata": {},
   "outputs": [
    {
     "data": {
      "text/plain": [
       "interactive(children=(Dropdown(description='ERA5 variable to plot', options=('hum', 'precip', 'ssrd', 't2m_max…"
      ]
     },
     "metadata": {},
     "output_type": "display_data"
    }
   ],
   "source": [
    "plot_era_anomaly()"
   ]
  },
  {
   "cell_type": "markdown",
   "metadata": {},
   "source": [
    "##MODIS Anomalies\n",
    "The first function plots anomalies for the MODIS fapar/lai data over Ghana. This allows us to judge the condition of vegetation in the current month. You can chose the time period for which to compare the current conditions with the drop down menu."
   ]
  },
  {
   "cell_type": "code",
   "execution_count": null,
   "metadata": {},
   "outputs": [],
   "source": [
    "plot_modis_anomaly()"
   ]
  }
 ],
 "metadata": {
  "kernelspec": {
   "display_name": "Python 3",
   "language": "python",
   "name": "python3"
  },
  "language_info": {
   "codemirror_mode": {
    "name": "ipython",
    "version": 3
   },
   "file_extension": ".py",
   "mimetype": "text/x-python",
   "name": "python",
   "nbconvert_exporter": "python",
   "pygments_lexer": "ipython3",
   "version": "3.7.6"
  }
 },
 "nbformat": 4,
 "nbformat_minor": 4
}
